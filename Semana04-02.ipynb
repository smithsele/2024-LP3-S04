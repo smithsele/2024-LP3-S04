{
 "cells": [
  {
   "cell_type": "markdown",
   "id": "a4e162a4",
   "metadata": {},
   "source": [
    "# SEMANA 04\n",
    "Ramos Sanchez Smith Seleni"
   ]
  },
  {
   "cell_type": "markdown",
   "id": "aa16bcc1",
   "metadata": {},
   "source": [
    "Agenda\n",
    "1. Números\n",
    "2. Variables\n",
    "3. Manejo de cadenas\n",
    "4. Ingreso por el teclado\n",
    "5. Operadores"
   ]
  },
  {
   "cell_type": "markdown",
   "id": "7a392d35",
   "metadata": {},
   "source": [
    "# 2. Variables"
   ]
  },
  {
   "cell_type": "code",
   "execution_count": 2,
   "id": "0d580de7",
   "metadata": {},
   "outputs": [],
   "source": [
    "#se deben iniciar siempre con una letra o con un guión abajo.(Nunca con unn número u otro símbolo)"
   ]
  },
  {
   "cell_type": "code",
   "execution_count": 5,
   "id": "58a9ab2f",
   "metadata": {},
   "outputs": [],
   "source": [
    "edad = 21"
   ]
  },
  {
   "cell_type": "code",
   "execution_count": 6,
   "id": "9ca93929",
   "metadata": {},
   "outputs": [
    {
     "data": {
      "text/plain": [
       "21"
      ]
     },
     "execution_count": 6,
     "metadata": {},
     "output_type": "execute_result"
    }
   ],
   "source": [
    "edad"
   ]
  },
  {
   "cell_type": "code",
   "execution_count": 7,
   "id": "30866857",
   "metadata": {},
   "outputs": [],
   "source": [
    "nombre = \"JEANPIER\""
   ]
  },
  {
   "cell_type": "code",
   "execution_count": 8,
   "id": "e8299fb9",
   "metadata": {},
   "outputs": [
    {
     "data": {
      "text/plain": [
       "'JEANPIER'"
      ]
     },
     "execution_count": 8,
     "metadata": {},
     "output_type": "execute_result"
    }
   ],
   "source": [
    "nombre"
   ]
  },
  {
   "cell_type": "code",
   "execution_count": 9,
   "id": "b03dc47d",
   "metadata": {},
   "outputs": [],
   "source": [
    "apellido = \"Barrios Quispe\""
   ]
  },
  {
   "cell_type": "code",
   "execution_count": 10,
   "id": "9153bf48",
   "metadata": {},
   "outputs": [
    {
     "data": {
      "text/plain": [
       "'Barrios Quispe'"
      ]
     },
     "execution_count": 10,
     "metadata": {},
     "output_type": "execute_result"
    }
   ],
   "source": [
    "apellido"
   ]
  },
  {
   "cell_type": "code",
   "execution_count": 11,
   "id": "2892537f",
   "metadata": {},
   "outputs": [],
   "source": [
    "nombrecompleto = nombre + apellido"
   ]
  },
  {
   "cell_type": "code",
   "execution_count": 12,
   "id": "8277ea69",
   "metadata": {},
   "outputs": [
    {
     "data": {
      "text/plain": [
       "'JEANPIERBarrios Quispe'"
      ]
     },
     "execution_count": 12,
     "metadata": {},
     "output_type": "execute_result"
    }
   ],
   "source": [
    "nombrecompleto"
   ]
  },
  {
   "cell_type": "code",
   "execution_count": 13,
   "id": "94acc10a",
   "metadata": {},
   "outputs": [],
   "source": [
    "nombrecompleto = nombre + \" \" + apellido"
   ]
  },
  {
   "cell_type": "code",
   "execution_count": 14,
   "id": "6ebcf18a",
   "metadata": {},
   "outputs": [
    {
     "data": {
      "text/plain": [
       "'JEANPIER Barrios Quispe'"
      ]
     },
     "execution_count": 14,
     "metadata": {},
     "output_type": "execute_result"
    }
   ],
   "source": [
    "nombrecompleto"
   ]
  },
  {
   "cell_type": "code",
   "execution_count": 15,
   "id": "962063bd",
   "metadata": {},
   "outputs": [],
   "source": [
    "numero = 50"
   ]
  },
  {
   "cell_type": "code",
   "execution_count": 22,
   "id": "d30bcaed",
   "metadata": {},
   "outputs": [],
   "source": [
    "#para saber el tipo de variable se usa type()\n",
    "type(numero)"
   ]
  },
  {
   "cell_type": "code",
   "execution_count": 17,
   "id": "7d5ebdbc",
   "metadata": {},
   "outputs": [],
   "source": [
    "talla = 1.60"
   ]
  },
  {
   "cell_type": "code",
   "execution_count": 18,
   "id": "a5fcbb46",
   "metadata": {},
   "outputs": [
    {
     "data": {
      "text/plain": [
       "float"
      ]
     },
     "execution_count": 18,
     "metadata": {},
     "output_type": "execute_result"
    }
   ],
   "source": [
    "type(talla)"
   ]
  },
  {
   "cell_type": "code",
   "execution_count": 19,
   "id": "4c6207dd",
   "metadata": {},
   "outputs": [],
   "source": [
    "numero = 100"
   ]
  },
  {
   "cell_type": "code",
   "execution_count": 20,
   "id": "1ecd5c33",
   "metadata": {},
   "outputs": [],
   "source": [
    "#para convertir un número en cadena str()\n",
    "cadena = str(numero)"
   ]
  },
  {
   "cell_type": "code",
   "execution_count": 21,
   "id": "8132e39e",
   "metadata": {},
   "outputs": [
    {
     "data": {
      "text/plain": [
       "'100'"
      ]
     },
     "execution_count": 21,
     "metadata": {},
     "output_type": "execute_result"
    }
   ],
   "source": [
    "cadena"
   ]
  },
  {
   "cell_type": "code",
   "execution_count": 23,
   "id": "a184a419",
   "metadata": {},
   "outputs": [
    {
     "data": {
      "text/plain": [
       "int"
      ]
     },
     "execution_count": 23,
     "metadata": {},
     "output_type": "execute_result"
    }
   ],
   "source": [
    "type(numero)"
   ]
  },
  {
   "cell_type": "code",
   "execution_count": 30,
   "id": "ae4e2862",
   "metadata": {},
   "outputs": [],
   "source": [
    "#para convertir una cadena en un entero\n",
    "cadena2=\"50\""
   ]
  },
  {
   "cell_type": "code",
   "execution_count": 32,
   "id": "b09d242b",
   "metadata": {},
   "outputs": [],
   "source": [
    "numero2=int(cadena2)"
   ]
  },
  {
   "cell_type": "code",
   "execution_count": 33,
   "id": "be7866cf",
   "metadata": {},
   "outputs": [
    {
     "data": {
      "text/plain": [
       "50"
      ]
     },
     "execution_count": 33,
     "metadata": {},
     "output_type": "execute_result"
    }
   ],
   "source": [
    "numero2"
   ]
  },
  {
   "cell_type": "code",
   "execution_count": 28,
   "id": "068cc8b6",
   "metadata": {},
   "outputs": [],
   "source": [
    "#para convertir una cadena en un flotante\n",
    "cadena2=\"50\""
   ]
  },
  {
   "cell_type": "code",
   "execution_count": 29,
   "id": "0f717b09",
   "metadata": {},
   "outputs": [
    {
     "data": {
      "text/plain": [
       "50.0"
      ]
     },
     "execution_count": 29,
     "metadata": {},
     "output_type": "execute_result"
    }
   ],
   "source": [
    "numero2=float(cadena2)\n",
    "numero2"
   ]
  }
 ],
 "metadata": {
  "kernelspec": {
   "display_name": "Python 3 (ipykernel)",
   "language": "python",
   "name": "python3"
  },
  "language_info": {
   "codemirror_mode": {
    "name": "ipython",
    "version": 3
   },
   "file_extension": ".py",
   "mimetype": "text/x-python",
   "name": "python",
   "nbconvert_exporter": "python",
   "pygments_lexer": "ipython3",
   "version": "3.9.12"
  }
 },
 "nbformat": 4,
 "nbformat_minor": 5
}
