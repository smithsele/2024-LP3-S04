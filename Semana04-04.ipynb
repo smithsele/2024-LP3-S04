{
 "cells": [
  {
   "cell_type": "markdown",
   "id": "e32b272b",
   "metadata": {},
   "source": [
    "#  SEMANA 04\n",
    "Ramos Sanchez Smith Seleni"
   ]
  },
  {
   "cell_type": "markdown",
   "id": "f1c19c12",
   "metadata": {},
   "source": [
    "Agenda\n",
    "\n",
    "1. Números\n",
    "2. Variables\n",
    "3. Manejo de cadenas\n",
    "4. Ingreso por el teclado\n",
    "5. Operadores"
   ]
  },
  {
   "cell_type": "markdown",
   "id": "674aa8d5",
   "metadata": {},
   "source": [
    "4. Ingreso por el teclado"
   ]
  },
  {
   "cell_type": "code",
   "execution_count": 1,
   "id": "8ac458be",
   "metadata": {},
   "outputs": [
    {
     "name": "stdout",
     "output_type": "stream",
     "text": [
      "¿Cuál es tu nombre?\n",
      "Smith Ramos\n",
      "Hola Smith Ramos\n"
     ]
    }
   ],
   "source": [
    "#función input()\n",
    "print(\"¿Cuál es tu nombre?\")\n",
    "nombre = input()\n",
    "print(\"Hola \" + nombre)"
   ]
  },
  {
   "cell_type": "code",
   "execution_count": 3,
   "id": "a4e20a33",
   "metadata": {},
   "outputs": [
    {
     "name": "stdout",
     "output_type": "stream",
     "text": [
      "numero1: \n",
      "10\n",
      "numero2: \n",
      "23\n",
      "el resultado es 33\n"
     ]
    }
   ],
   "source": [
    "#Cuando ingresa un valor por teclado lo hace como cadena\n",
    "print(\"numero1: \")\n",
    "numero1=input()\n",
    "print(\"numero2: \")\n",
    "numero2=input()\n",
    "numero3=int(numero1) + int(numero2)\n",
    "print(f\"el resultado es {numero3}\")"
   ]
  }
 ],
 "metadata": {
  "kernelspec": {
   "display_name": "Python 3 (ipykernel)",
   "language": "python",
   "name": "python3"
  },
  "language_info": {
   "codemirror_mode": {
    "name": "ipython",
    "version": 3
   },
   "file_extension": ".py",
   "mimetype": "text/x-python",
   "name": "python",
   "nbconvert_exporter": "python",
   "pygments_lexer": "ipython3",
   "version": "3.9.12"
  }
 },
 "nbformat": 4,
 "nbformat_minor": 5
}
